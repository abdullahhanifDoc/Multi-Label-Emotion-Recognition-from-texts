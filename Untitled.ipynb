{
 "cells": [
  {
   "cell_type": "code",
   "execution_count": 1,
   "id": "3e7a5f2a-54ad-4c2c-ad5e-84d781c3f711",
   "metadata": {},
   "outputs": [],
   "source": [
    "import pandas as pd\n",
    "import numpy as np\n",
    "import matplotlib.pyplot as plt\n",
    "import seaborn as sns\n",
    "import re"
   ]
  },
  {
   "cell_type": "code",
   "execution_count": 2,
   "id": "74a54cd4-cbc0-4163-a449-29fa619883c6",
   "metadata": {},
   "outputs": [],
   "source": [
    "df = pd.read_csv('go_emotions_dataset.csv')"
   ]
  },
  {
   "cell_type": "code",
   "execution_count": 3,
   "id": "c89d433a-b9b3-4830-8f34-be34a9b679d0",
   "metadata": {},
   "outputs": [
    {
     "data": {
      "text/html": [
       "<div>\n",
       "<style scoped>\n",
       "    .dataframe tbody tr th:only-of-type {\n",
       "        vertical-align: middle;\n",
       "    }\n",
       "\n",
       "    .dataframe tbody tr th {\n",
       "        vertical-align: top;\n",
       "    }\n",
       "\n",
       "    .dataframe thead th {\n",
       "        text-align: right;\n",
       "    }\n",
       "</style>\n",
       "<table border=\"1\" class=\"dataframe\">\n",
       "  <thead>\n",
       "    <tr style=\"text-align: right;\">\n",
       "      <th></th>\n",
       "      <th>id</th>\n",
       "      <th>text</th>\n",
       "      <th>example_very_unclear</th>\n",
       "      <th>admiration</th>\n",
       "      <th>amusement</th>\n",
       "      <th>anger</th>\n",
       "      <th>annoyance</th>\n",
       "      <th>approval</th>\n",
       "      <th>caring</th>\n",
       "      <th>confusion</th>\n",
       "      <th>...</th>\n",
       "      <th>love</th>\n",
       "      <th>nervousness</th>\n",
       "      <th>optimism</th>\n",
       "      <th>pride</th>\n",
       "      <th>realization</th>\n",
       "      <th>relief</th>\n",
       "      <th>remorse</th>\n",
       "      <th>sadness</th>\n",
       "      <th>surprise</th>\n",
       "      <th>neutral</th>\n",
       "    </tr>\n",
       "  </thead>\n",
       "  <tbody>\n",
       "    <tr>\n",
       "      <th>0</th>\n",
       "      <td>eew5j0j</td>\n",
       "      <td>That game hurt.</td>\n",
       "      <td>False</td>\n",
       "      <td>0</td>\n",
       "      <td>0</td>\n",
       "      <td>0</td>\n",
       "      <td>0</td>\n",
       "      <td>0</td>\n",
       "      <td>0</td>\n",
       "      <td>0</td>\n",
       "      <td>...</td>\n",
       "      <td>0</td>\n",
       "      <td>0</td>\n",
       "      <td>0</td>\n",
       "      <td>0</td>\n",
       "      <td>0</td>\n",
       "      <td>0</td>\n",
       "      <td>0</td>\n",
       "      <td>1</td>\n",
       "      <td>0</td>\n",
       "      <td>0</td>\n",
       "    </tr>\n",
       "    <tr>\n",
       "      <th>1</th>\n",
       "      <td>eemcysk</td>\n",
       "      <td>&gt;sexuality shouldn’t be a grouping category I...</td>\n",
       "      <td>True</td>\n",
       "      <td>0</td>\n",
       "      <td>0</td>\n",
       "      <td>0</td>\n",
       "      <td>0</td>\n",
       "      <td>0</td>\n",
       "      <td>0</td>\n",
       "      <td>0</td>\n",
       "      <td>...</td>\n",
       "      <td>0</td>\n",
       "      <td>0</td>\n",
       "      <td>0</td>\n",
       "      <td>0</td>\n",
       "      <td>0</td>\n",
       "      <td>0</td>\n",
       "      <td>0</td>\n",
       "      <td>0</td>\n",
       "      <td>0</td>\n",
       "      <td>0</td>\n",
       "    </tr>\n",
       "    <tr>\n",
       "      <th>2</th>\n",
       "      <td>ed2mah1</td>\n",
       "      <td>You do right, if you don't care then fuck 'em!</td>\n",
       "      <td>False</td>\n",
       "      <td>0</td>\n",
       "      <td>0</td>\n",
       "      <td>0</td>\n",
       "      <td>0</td>\n",
       "      <td>0</td>\n",
       "      <td>0</td>\n",
       "      <td>0</td>\n",
       "      <td>...</td>\n",
       "      <td>0</td>\n",
       "      <td>0</td>\n",
       "      <td>0</td>\n",
       "      <td>0</td>\n",
       "      <td>0</td>\n",
       "      <td>0</td>\n",
       "      <td>0</td>\n",
       "      <td>0</td>\n",
       "      <td>0</td>\n",
       "      <td>1</td>\n",
       "    </tr>\n",
       "    <tr>\n",
       "      <th>3</th>\n",
       "      <td>eeibobj</td>\n",
       "      <td>Man I love reddit.</td>\n",
       "      <td>False</td>\n",
       "      <td>0</td>\n",
       "      <td>0</td>\n",
       "      <td>0</td>\n",
       "      <td>0</td>\n",
       "      <td>0</td>\n",
       "      <td>0</td>\n",
       "      <td>0</td>\n",
       "      <td>...</td>\n",
       "      <td>1</td>\n",
       "      <td>0</td>\n",
       "      <td>0</td>\n",
       "      <td>0</td>\n",
       "      <td>0</td>\n",
       "      <td>0</td>\n",
       "      <td>0</td>\n",
       "      <td>0</td>\n",
       "      <td>0</td>\n",
       "      <td>0</td>\n",
       "    </tr>\n",
       "    <tr>\n",
       "      <th>4</th>\n",
       "      <td>eda6yn6</td>\n",
       "      <td>[NAME] was nowhere near them, he was by the Fa...</td>\n",
       "      <td>False</td>\n",
       "      <td>0</td>\n",
       "      <td>0</td>\n",
       "      <td>0</td>\n",
       "      <td>0</td>\n",
       "      <td>0</td>\n",
       "      <td>0</td>\n",
       "      <td>0</td>\n",
       "      <td>...</td>\n",
       "      <td>0</td>\n",
       "      <td>0</td>\n",
       "      <td>0</td>\n",
       "      <td>0</td>\n",
       "      <td>0</td>\n",
       "      <td>0</td>\n",
       "      <td>0</td>\n",
       "      <td>0</td>\n",
       "      <td>0</td>\n",
       "      <td>1</td>\n",
       "    </tr>\n",
       "  </tbody>\n",
       "</table>\n",
       "<p>5 rows × 31 columns</p>\n",
       "</div>"
      ],
      "text/plain": [
       "        id                                               text  \\\n",
       "0  eew5j0j                                    That game hurt.   \n",
       "1  eemcysk   >sexuality shouldn’t be a grouping category I...   \n",
       "2  ed2mah1     You do right, if you don't care then fuck 'em!   \n",
       "3  eeibobj                                 Man I love reddit.   \n",
       "4  eda6yn6  [NAME] was nowhere near them, he was by the Fa...   \n",
       "\n",
       "   example_very_unclear  admiration  amusement  anger  annoyance  approval  \\\n",
       "0                 False           0          0      0          0         0   \n",
       "1                  True           0          0      0          0         0   \n",
       "2                 False           0          0      0          0         0   \n",
       "3                 False           0          0      0          0         0   \n",
       "4                 False           0          0      0          0         0   \n",
       "\n",
       "   caring  confusion  ...  love  nervousness  optimism  pride  realization  \\\n",
       "0       0          0  ...     0            0         0      0            0   \n",
       "1       0          0  ...     0            0         0      0            0   \n",
       "2       0          0  ...     0            0         0      0            0   \n",
       "3       0          0  ...     1            0         0      0            0   \n",
       "4       0          0  ...     0            0         0      0            0   \n",
       "\n",
       "   relief  remorse  sadness  surprise  neutral  \n",
       "0       0        0        1         0        0  \n",
       "1       0        0        0         0        0  \n",
       "2       0        0        0         0        1  \n",
       "3       0        0        0         0        0  \n",
       "4       0        0        0         0        1  \n",
       "\n",
       "[5 rows x 31 columns]"
      ]
     },
     "execution_count": 3,
     "metadata": {},
     "output_type": "execute_result"
    }
   ],
   "source": [
    "df.head()"
   ]
  },
  {
   "cell_type": "code",
   "execution_count": 4,
   "id": "2f44dd2c-0fb2-41b0-b170-01f62feddf12",
   "metadata": {},
   "outputs": [
    {
     "name": "stdout",
     "output_type": "stream",
     "text": [
      "<class 'pandas.core.frame.DataFrame'>\n",
      "RangeIndex: 211225 entries, 0 to 211224\n",
      "Data columns (total 31 columns):\n",
      " #   Column                Non-Null Count   Dtype \n",
      "---  ------                --------------   ----- \n",
      " 0   id                    211225 non-null  object\n",
      " 1   text                  211225 non-null  object\n",
      " 2   example_very_unclear  211225 non-null  bool  \n",
      " 3   admiration            211225 non-null  int64 \n",
      " 4   amusement             211225 non-null  int64 \n",
      " 5   anger                 211225 non-null  int64 \n",
      " 6   annoyance             211225 non-null  int64 \n",
      " 7   approval              211225 non-null  int64 \n",
      " 8   caring                211225 non-null  int64 \n",
      " 9   confusion             211225 non-null  int64 \n",
      " 10  curiosity             211225 non-null  int64 \n",
      " 11  desire                211225 non-null  int64 \n",
      " 12  disappointment        211225 non-null  int64 \n",
      " 13  disapproval           211225 non-null  int64 \n",
      " 14  disgust               211225 non-null  int64 \n",
      " 15  embarrassment         211225 non-null  int64 \n",
      " 16  excitement            211225 non-null  int64 \n",
      " 17  fear                  211225 non-null  int64 \n",
      " 18  gratitude             211225 non-null  int64 \n",
      " 19  grief                 211225 non-null  int64 \n",
      " 20  joy                   211225 non-null  int64 \n",
      " 21  love                  211225 non-null  int64 \n",
      " 22  nervousness           211225 non-null  int64 \n",
      " 23  optimism              211225 non-null  int64 \n",
      " 24  pride                 211225 non-null  int64 \n",
      " 25  realization           211225 non-null  int64 \n",
      " 26  relief                211225 non-null  int64 \n",
      " 27  remorse               211225 non-null  int64 \n",
      " 28  sadness               211225 non-null  int64 \n",
      " 29  surprise              211225 non-null  int64 \n",
      " 30  neutral               211225 non-null  int64 \n",
      "dtypes: bool(1), int64(28), object(2)\n",
      "memory usage: 48.5+ MB\n"
     ]
    }
   ],
   "source": [
    "df.info()"
   ]
  },
  {
   "cell_type": "code",
   "execution_count": 5,
   "id": "374b7357-5d39-4043-a601-865f7a6471cd",
   "metadata": {},
   "outputs": [
    {
     "data": {
      "text/html": [
       "<div>\n",
       "<style scoped>\n",
       "    .dataframe tbody tr th:only-of-type {\n",
       "        vertical-align: middle;\n",
       "    }\n",
       "\n",
       "    .dataframe tbody tr th {\n",
       "        vertical-align: top;\n",
       "    }\n",
       "\n",
       "    .dataframe thead th {\n",
       "        text-align: right;\n",
       "    }\n",
       "</style>\n",
       "<table border=\"1\" class=\"dataframe\">\n",
       "  <thead>\n",
       "    <tr style=\"text-align: right;\">\n",
       "      <th></th>\n",
       "      <th>admiration</th>\n",
       "      <th>amusement</th>\n",
       "      <th>anger</th>\n",
       "      <th>annoyance</th>\n",
       "      <th>approval</th>\n",
       "      <th>caring</th>\n",
       "      <th>confusion</th>\n",
       "      <th>curiosity</th>\n",
       "      <th>desire</th>\n",
       "      <th>disappointment</th>\n",
       "      <th>...</th>\n",
       "      <th>love</th>\n",
       "      <th>nervousness</th>\n",
       "      <th>optimism</th>\n",
       "      <th>pride</th>\n",
       "      <th>realization</th>\n",
       "      <th>relief</th>\n",
       "      <th>remorse</th>\n",
       "      <th>sadness</th>\n",
       "      <th>surprise</th>\n",
       "      <th>neutral</th>\n",
       "    </tr>\n",
       "  </thead>\n",
       "  <tbody>\n",
       "    <tr>\n",
       "      <th>count</th>\n",
       "      <td>211225.000000</td>\n",
       "      <td>211225.000000</td>\n",
       "      <td>211225.000000</td>\n",
       "      <td>211225.000000</td>\n",
       "      <td>211225.000000</td>\n",
       "      <td>211225.000000</td>\n",
       "      <td>211225.000000</td>\n",
       "      <td>211225.000000</td>\n",
       "      <td>211225.000000</td>\n",
       "      <td>211225.000000</td>\n",
       "      <td>...</td>\n",
       "      <td>211225.000000</td>\n",
       "      <td>211225.000000</td>\n",
       "      <td>211225.000000</td>\n",
       "      <td>211225.000000</td>\n",
       "      <td>211225.000000</td>\n",
       "      <td>211225.000000</td>\n",
       "      <td>211225.000000</td>\n",
       "      <td>211225.000000</td>\n",
       "      <td>211225.000000</td>\n",
       "      <td>211225.000000</td>\n",
       "    </tr>\n",
       "    <tr>\n",
       "      <th>mean</th>\n",
       "      <td>0.081103</td>\n",
       "      <td>0.043768</td>\n",
       "      <td>0.038272</td>\n",
       "      <td>0.064472</td>\n",
       "      <td>0.083418</td>\n",
       "      <td>0.028401</td>\n",
       "      <td>0.034840</td>\n",
       "      <td>0.045885</td>\n",
       "      <td>0.018071</td>\n",
       "      <td>0.040095</td>\n",
       "      <td>...</td>\n",
       "      <td>0.038779</td>\n",
       "      <td>0.008569</td>\n",
       "      <td>0.041259</td>\n",
       "      <td>0.006164</td>\n",
       "      <td>0.041591</td>\n",
       "      <td>0.006102</td>\n",
       "      <td>0.011954</td>\n",
       "      <td>0.031994</td>\n",
       "      <td>0.026105</td>\n",
       "      <td>0.261797</td>\n",
       "    </tr>\n",
       "    <tr>\n",
       "      <th>std</th>\n",
       "      <td>0.272994</td>\n",
       "      <td>0.204580</td>\n",
       "      <td>0.191853</td>\n",
       "      <td>0.245592</td>\n",
       "      <td>0.276514</td>\n",
       "      <td>0.166116</td>\n",
       "      <td>0.183374</td>\n",
       "      <td>0.209236</td>\n",
       "      <td>0.133208</td>\n",
       "      <td>0.196182</td>\n",
       "      <td>...</td>\n",
       "      <td>0.193067</td>\n",
       "      <td>0.092172</td>\n",
       "      <td>0.198890</td>\n",
       "      <td>0.078269</td>\n",
       "      <td>0.199653</td>\n",
       "      <td>0.077880</td>\n",
       "      <td>0.108679</td>\n",
       "      <td>0.175985</td>\n",
       "      <td>0.159448</td>\n",
       "      <td>0.439614</td>\n",
       "    </tr>\n",
       "    <tr>\n",
       "      <th>min</th>\n",
       "      <td>0.000000</td>\n",
       "      <td>0.000000</td>\n",
       "      <td>0.000000</td>\n",
       "      <td>0.000000</td>\n",
       "      <td>0.000000</td>\n",
       "      <td>0.000000</td>\n",
       "      <td>0.000000</td>\n",
       "      <td>0.000000</td>\n",
       "      <td>0.000000</td>\n",
       "      <td>0.000000</td>\n",
       "      <td>...</td>\n",
       "      <td>0.000000</td>\n",
       "      <td>0.000000</td>\n",
       "      <td>0.000000</td>\n",
       "      <td>0.000000</td>\n",
       "      <td>0.000000</td>\n",
       "      <td>0.000000</td>\n",
       "      <td>0.000000</td>\n",
       "      <td>0.000000</td>\n",
       "      <td>0.000000</td>\n",
       "      <td>0.000000</td>\n",
       "    </tr>\n",
       "    <tr>\n",
       "      <th>25%</th>\n",
       "      <td>0.000000</td>\n",
       "      <td>0.000000</td>\n",
       "      <td>0.000000</td>\n",
       "      <td>0.000000</td>\n",
       "      <td>0.000000</td>\n",
       "      <td>0.000000</td>\n",
       "      <td>0.000000</td>\n",
       "      <td>0.000000</td>\n",
       "      <td>0.000000</td>\n",
       "      <td>0.000000</td>\n",
       "      <td>...</td>\n",
       "      <td>0.000000</td>\n",
       "      <td>0.000000</td>\n",
       "      <td>0.000000</td>\n",
       "      <td>0.000000</td>\n",
       "      <td>0.000000</td>\n",
       "      <td>0.000000</td>\n",
       "      <td>0.000000</td>\n",
       "      <td>0.000000</td>\n",
       "      <td>0.000000</td>\n",
       "      <td>0.000000</td>\n",
       "    </tr>\n",
       "    <tr>\n",
       "      <th>50%</th>\n",
       "      <td>0.000000</td>\n",
       "      <td>0.000000</td>\n",
       "      <td>0.000000</td>\n",
       "      <td>0.000000</td>\n",
       "      <td>0.000000</td>\n",
       "      <td>0.000000</td>\n",
       "      <td>0.000000</td>\n",
       "      <td>0.000000</td>\n",
       "      <td>0.000000</td>\n",
       "      <td>0.000000</td>\n",
       "      <td>...</td>\n",
       "      <td>0.000000</td>\n",
       "      <td>0.000000</td>\n",
       "      <td>0.000000</td>\n",
       "      <td>0.000000</td>\n",
       "      <td>0.000000</td>\n",
       "      <td>0.000000</td>\n",
       "      <td>0.000000</td>\n",
       "      <td>0.000000</td>\n",
       "      <td>0.000000</td>\n",
       "      <td>0.000000</td>\n",
       "    </tr>\n",
       "    <tr>\n",
       "      <th>75%</th>\n",
       "      <td>0.000000</td>\n",
       "      <td>0.000000</td>\n",
       "      <td>0.000000</td>\n",
       "      <td>0.000000</td>\n",
       "      <td>0.000000</td>\n",
       "      <td>0.000000</td>\n",
       "      <td>0.000000</td>\n",
       "      <td>0.000000</td>\n",
       "      <td>0.000000</td>\n",
       "      <td>0.000000</td>\n",
       "      <td>...</td>\n",
       "      <td>0.000000</td>\n",
       "      <td>0.000000</td>\n",
       "      <td>0.000000</td>\n",
       "      <td>0.000000</td>\n",
       "      <td>0.000000</td>\n",
       "      <td>0.000000</td>\n",
       "      <td>0.000000</td>\n",
       "      <td>0.000000</td>\n",
       "      <td>0.000000</td>\n",
       "      <td>1.000000</td>\n",
       "    </tr>\n",
       "    <tr>\n",
       "      <th>max</th>\n",
       "      <td>1.000000</td>\n",
       "      <td>1.000000</td>\n",
       "      <td>1.000000</td>\n",
       "      <td>1.000000</td>\n",
       "      <td>1.000000</td>\n",
       "      <td>1.000000</td>\n",
       "      <td>1.000000</td>\n",
       "      <td>1.000000</td>\n",
       "      <td>1.000000</td>\n",
       "      <td>1.000000</td>\n",
       "      <td>...</td>\n",
       "      <td>1.000000</td>\n",
       "      <td>1.000000</td>\n",
       "      <td>1.000000</td>\n",
       "      <td>1.000000</td>\n",
       "      <td>1.000000</td>\n",
       "      <td>1.000000</td>\n",
       "      <td>1.000000</td>\n",
       "      <td>1.000000</td>\n",
       "      <td>1.000000</td>\n",
       "      <td>1.000000</td>\n",
       "    </tr>\n",
       "  </tbody>\n",
       "</table>\n",
       "<p>8 rows × 28 columns</p>\n",
       "</div>"
      ],
      "text/plain": [
       "          admiration      amusement          anger      annoyance  \\\n",
       "count  211225.000000  211225.000000  211225.000000  211225.000000   \n",
       "mean        0.081103       0.043768       0.038272       0.064472   \n",
       "std         0.272994       0.204580       0.191853       0.245592   \n",
       "min         0.000000       0.000000       0.000000       0.000000   \n",
       "25%         0.000000       0.000000       0.000000       0.000000   \n",
       "50%         0.000000       0.000000       0.000000       0.000000   \n",
       "75%         0.000000       0.000000       0.000000       0.000000   \n",
       "max         1.000000       1.000000       1.000000       1.000000   \n",
       "\n",
       "            approval         caring      confusion      curiosity  \\\n",
       "count  211225.000000  211225.000000  211225.000000  211225.000000   \n",
       "mean        0.083418       0.028401       0.034840       0.045885   \n",
       "std         0.276514       0.166116       0.183374       0.209236   \n",
       "min         0.000000       0.000000       0.000000       0.000000   \n",
       "25%         0.000000       0.000000       0.000000       0.000000   \n",
       "50%         0.000000       0.000000       0.000000       0.000000   \n",
       "75%         0.000000       0.000000       0.000000       0.000000   \n",
       "max         1.000000       1.000000       1.000000       1.000000   \n",
       "\n",
       "              desire  disappointment  ...           love    nervousness  \\\n",
       "count  211225.000000   211225.000000  ...  211225.000000  211225.000000   \n",
       "mean        0.018071        0.040095  ...       0.038779       0.008569   \n",
       "std         0.133208        0.196182  ...       0.193067       0.092172   \n",
       "min         0.000000        0.000000  ...       0.000000       0.000000   \n",
       "25%         0.000000        0.000000  ...       0.000000       0.000000   \n",
       "50%         0.000000        0.000000  ...       0.000000       0.000000   \n",
       "75%         0.000000        0.000000  ...       0.000000       0.000000   \n",
       "max         1.000000        1.000000  ...       1.000000       1.000000   \n",
       "\n",
       "            optimism          pride    realization         relief  \\\n",
       "count  211225.000000  211225.000000  211225.000000  211225.000000   \n",
       "mean        0.041259       0.006164       0.041591       0.006102   \n",
       "std         0.198890       0.078269       0.199653       0.077880   \n",
       "min         0.000000       0.000000       0.000000       0.000000   \n",
       "25%         0.000000       0.000000       0.000000       0.000000   \n",
       "50%         0.000000       0.000000       0.000000       0.000000   \n",
       "75%         0.000000       0.000000       0.000000       0.000000   \n",
       "max         1.000000       1.000000       1.000000       1.000000   \n",
       "\n",
       "             remorse        sadness       surprise        neutral  \n",
       "count  211225.000000  211225.000000  211225.000000  211225.000000  \n",
       "mean        0.011954       0.031994       0.026105       0.261797  \n",
       "std         0.108679       0.175985       0.159448       0.439614  \n",
       "min         0.000000       0.000000       0.000000       0.000000  \n",
       "25%         0.000000       0.000000       0.000000       0.000000  \n",
       "50%         0.000000       0.000000       0.000000       0.000000  \n",
       "75%         0.000000       0.000000       0.000000       1.000000  \n",
       "max         1.000000       1.000000       1.000000       1.000000  \n",
       "\n",
       "[8 rows x 28 columns]"
      ]
     },
     "execution_count": 5,
     "metadata": {},
     "output_type": "execute_result"
    }
   ],
   "source": [
    "df.describe()"
   ]
  },
  {
   "cell_type": "code",
   "execution_count": 6,
   "id": "b3a13255-30d4-4785-9d99-8abc1bde4800",
   "metadata": {},
   "outputs": [
    {
     "name": "stdout",
     "output_type": "stream",
     "text": [
      "That game hurt.\n",
      " >sexuality shouldn’t be a grouping category It makes you different from othet ppl so imo it fits the definition of \"grouping\" \n",
      "You do right, if you don't care then fuck 'em!\n",
      "Man I love reddit.\n",
      "[NAME] was nowhere near them, he was by the Falcon. \n"
     ]
    }
   ],
   "source": [
    "for i in range(0,5):\n",
    "    print(df['text'].loc[i])"
   ]
  },
  {
   "cell_type": "code",
   "execution_count": 7,
   "id": "940c786e-bcfb-49d0-b1a7-cc78dcd921a3",
   "metadata": {},
   "outputs": [
    {
     "data": {
      "text/plain": [
       "id\n",
       "eew5j0j    5\n",
       "eeem310    5\n",
       "ed9km8y    5\n",
       "ed1djsl    5\n",
       "ee8wvo4    5\n",
       "          ..\n",
       "ee0v8a8    1\n",
       "eerolx8    1\n",
       "ed7via6    1\n",
       "eellksw    1\n",
       "edcp8f5    1\n",
       "Name: count, Length: 58011, dtype: int64"
      ]
     },
     "execution_count": 7,
     "metadata": {},
     "output_type": "execute_result"
    }
   ],
   "source": [
    "df['id'].value_counts()"
   ]
  },
  {
   "cell_type": "code",
   "execution_count": 8,
   "id": "69648677-9176-433b-b38a-e8a7291e4c87",
   "metadata": {},
   "outputs": [
    {
     "name": "stdout",
     "output_type": "stream",
     "text": [
      "admiration\n",
      "0    194094\n",
      "1     17131\n",
      "Name: count, dtype: int64\n",
      "amusement\n",
      "0    201980\n",
      "1      9245\n",
      "Name: count, dtype: int64\n",
      "anger\n",
      "0    203141\n",
      "1      8084\n",
      "Name: count, dtype: int64\n",
      "annoyance\n",
      "0    197607\n",
      "1     13618\n",
      "Name: count, dtype: int64\n",
      "approval\n",
      "0    193605\n",
      "1     17620\n",
      "Name: count, dtype: int64\n",
      "caring\n",
      "0    205226\n",
      "1      5999\n",
      "Name: count, dtype: int64\n",
      "confusion\n",
      "0    203866\n",
      "1      7359\n",
      "Name: count, dtype: int64\n",
      "curiosity\n",
      "0    201533\n",
      "1      9692\n",
      "Name: count, dtype: int64\n",
      "desire\n",
      "0    207408\n",
      "1      3817\n",
      "Name: count, dtype: int64\n",
      "disappointment\n",
      "0    202756\n",
      "1      8469\n",
      "Name: count, dtype: int64\n",
      "disapproval\n",
      "0    199801\n",
      "1     11424\n",
      "Name: count, dtype: int64\n",
      "disgust\n",
      "0    205924\n",
      "1      5301\n",
      "Name: count, dtype: int64\n",
      "embarrassment\n",
      "0    208749\n",
      "1      2476\n",
      "Name: count, dtype: int64\n",
      "excitement\n",
      "0    205596\n",
      "1      5629\n",
      "Name: count, dtype: int64\n",
      "fear\n",
      "0    208028\n",
      "1      3197\n",
      "Name: count, dtype: int64\n",
      "gratitude\n",
      "0    199600\n",
      "1     11625\n",
      "Name: count, dtype: int64\n",
      "grief\n",
      "0    210552\n",
      "1       673\n",
      "Name: count, dtype: int64\n",
      "joy\n",
      "0    203242\n",
      "1      7983\n",
      "Name: count, dtype: int64\n",
      "love\n",
      "0    203034\n",
      "1      8191\n",
      "Name: count, dtype: int64\n",
      "nervousness\n",
      "0    209415\n",
      "1      1810\n",
      "Name: count, dtype: int64\n",
      "optimism\n",
      "0    202510\n",
      "1      8715\n",
      "Name: count, dtype: int64\n",
      "pride\n",
      "0    209923\n",
      "1      1302\n",
      "Name: count, dtype: int64\n",
      "realization\n",
      "0    202440\n",
      "1      8785\n",
      "Name: count, dtype: int64\n",
      "relief\n",
      "0    209936\n",
      "1      1289\n",
      "Name: count, dtype: int64\n",
      "remorse\n",
      "0    208700\n",
      "1      2525\n",
      "Name: count, dtype: int64\n",
      "sadness\n",
      "0    204467\n",
      "1      6758\n",
      "Name: count, dtype: int64\n",
      "surprise\n",
      "0    205711\n",
      "1      5514\n",
      "Name: count, dtype: int64\n",
      "neutral\n",
      "0    155927\n",
      "1     55298\n",
      "Name: count, dtype: int64\n"
     ]
    }
   ],
   "source": [
    "emotion_columns = df.drop(['id','text','example_very_unclear'],axis=1)\n",
    "for emotion in emotion_columns:\n",
    "    print(df[emotion].value_counts())"
   ]
  },
  {
   "cell_type": "code",
   "execution_count": 9,
   "id": "22efc9b1-0bfe-4ced-addf-67e54b1aae6a",
   "metadata": {},
   "outputs": [
    {
     "data": {
      "text/plain": [
       "example_very_unclear\n",
       "False    207814\n",
       "True       3411\n",
       "Name: count, dtype: int64"
      ]
     },
     "execution_count": 9,
     "metadata": {},
     "output_type": "execute_result"
    }
   ],
   "source": [
    "df['example_very_unclear'].value_counts()"
   ]
  },
  {
   "cell_type": "code",
   "execution_count": 10,
   "id": "54a59346-0530-4c87-8b0e-f2d0ee945a3f",
   "metadata": {},
   "outputs": [
    {
     "name": "stdout",
     "output_type": "stream",
     "text": [
      "0\n",
      "0\n",
      "0\n",
      "0\n",
      "0\n",
      "0\n",
      "0\n",
      "0\n",
      "0\n",
      "0\n",
      "0\n",
      "0\n",
      "0\n",
      "0\n",
      "0\n",
      "0\n",
      "0\n",
      "0\n",
      "0\n",
      "0\n",
      "0\n",
      "0\n",
      "0\n",
      "0\n",
      "0\n",
      "0\n",
      "0\n",
      "0\n"
     ]
    }
   ],
   "source": [
    "for emotion in emotion_columns:\n",
    "    print(df[df['example_very_unclear']==True][emotion].sum())"
   ]
  },
  {
   "cell_type": "code",
   "execution_count": 11,
   "id": "51e2eee4-0dac-4797-8a6d-1ef9d0c40a8c",
   "metadata": {},
   "outputs": [
    {
     "data": {
      "text/html": [
       "<div>\n",
       "<style scoped>\n",
       "    .dataframe tbody tr th:only-of-type {\n",
       "        vertical-align: middle;\n",
       "    }\n",
       "\n",
       "    .dataframe tbody tr th {\n",
       "        vertical-align: top;\n",
       "    }\n",
       "\n",
       "    .dataframe thead th {\n",
       "        text-align: right;\n",
       "    }\n",
       "</style>\n",
       "<table border=\"1\" class=\"dataframe\">\n",
       "  <thead>\n",
       "    <tr style=\"text-align: right;\">\n",
       "      <th></th>\n",
       "      <th>id</th>\n",
       "      <th>text</th>\n",
       "      <th>example_very_unclear</th>\n",
       "      <th>admiration</th>\n",
       "      <th>amusement</th>\n",
       "      <th>anger</th>\n",
       "      <th>annoyance</th>\n",
       "      <th>approval</th>\n",
       "      <th>caring</th>\n",
       "      <th>confusion</th>\n",
       "      <th>...</th>\n",
       "      <th>love</th>\n",
       "      <th>nervousness</th>\n",
       "      <th>optimism</th>\n",
       "      <th>pride</th>\n",
       "      <th>realization</th>\n",
       "      <th>relief</th>\n",
       "      <th>remorse</th>\n",
       "      <th>sadness</th>\n",
       "      <th>surprise</th>\n",
       "      <th>neutral</th>\n",
       "    </tr>\n",
       "  </thead>\n",
       "  <tbody>\n",
       "    <tr>\n",
       "      <th>1</th>\n",
       "      <td>eemcysk</td>\n",
       "      <td>&gt;sexuality shouldn’t be a grouping category I...</td>\n",
       "      <td>True</td>\n",
       "      <td>0</td>\n",
       "      <td>0</td>\n",
       "      <td>0</td>\n",
       "      <td>0</td>\n",
       "      <td>0</td>\n",
       "      <td>0</td>\n",
       "      <td>0</td>\n",
       "      <td>...</td>\n",
       "      <td>0</td>\n",
       "      <td>0</td>\n",
       "      <td>0</td>\n",
       "      <td>0</td>\n",
       "      <td>0</td>\n",
       "      <td>0</td>\n",
       "      <td>0</td>\n",
       "      <td>0</td>\n",
       "      <td>0</td>\n",
       "      <td>0</td>\n",
       "    </tr>\n",
       "    <tr>\n",
       "      <th>62</th>\n",
       "      <td>ee0ai3t</td>\n",
       "      <td>Oi us cancers don’t want him either! We respec...</td>\n",
       "      <td>True</td>\n",
       "      <td>0</td>\n",
       "      <td>0</td>\n",
       "      <td>0</td>\n",
       "      <td>0</td>\n",
       "      <td>0</td>\n",
       "      <td>0</td>\n",
       "      <td>0</td>\n",
       "      <td>...</td>\n",
       "      <td>0</td>\n",
       "      <td>0</td>\n",
       "      <td>0</td>\n",
       "      <td>0</td>\n",
       "      <td>0</td>\n",
       "      <td>0</td>\n",
       "      <td>0</td>\n",
       "      <td>0</td>\n",
       "      <td>0</td>\n",
       "      <td>0</td>\n",
       "    </tr>\n",
       "    <tr>\n",
       "      <th>195</th>\n",
       "      <td>ed0rtl7</td>\n",
       "      <td>I unfortunately can not afford a lawyer. Lucki...</td>\n",
       "      <td>True</td>\n",
       "      <td>0</td>\n",
       "      <td>0</td>\n",
       "      <td>0</td>\n",
       "      <td>0</td>\n",
       "      <td>0</td>\n",
       "      <td>0</td>\n",
       "      <td>0</td>\n",
       "      <td>...</td>\n",
       "      <td>0</td>\n",
       "      <td>0</td>\n",
       "      <td>0</td>\n",
       "      <td>0</td>\n",
       "      <td>0</td>\n",
       "      <td>0</td>\n",
       "      <td>0</td>\n",
       "      <td>0</td>\n",
       "      <td>0</td>\n",
       "      <td>0</td>\n",
       "    </tr>\n",
       "    <tr>\n",
       "      <th>262</th>\n",
       "      <td>eei8tja</td>\n",
       "      <td>OMG THOSE TINY SHOES! *desire to boop snoot in...</td>\n",
       "      <td>True</td>\n",
       "      <td>0</td>\n",
       "      <td>0</td>\n",
       "      <td>0</td>\n",
       "      <td>0</td>\n",
       "      <td>0</td>\n",
       "      <td>0</td>\n",
       "      <td>0</td>\n",
       "      <td>...</td>\n",
       "      <td>0</td>\n",
       "      <td>0</td>\n",
       "      <td>0</td>\n",
       "      <td>0</td>\n",
       "      <td>0</td>\n",
       "      <td>0</td>\n",
       "      <td>0</td>\n",
       "      <td>0</td>\n",
       "      <td>0</td>\n",
       "      <td>0</td>\n",
       "    </tr>\n",
       "    <tr>\n",
       "      <th>264</th>\n",
       "      <td>ee8zjas</td>\n",
       "      <td>I would pay money for [NAME] to not be my nurs...</td>\n",
       "      <td>True</td>\n",
       "      <td>0</td>\n",
       "      <td>0</td>\n",
       "      <td>0</td>\n",
       "      <td>0</td>\n",
       "      <td>0</td>\n",
       "      <td>0</td>\n",
       "      <td>0</td>\n",
       "      <td>...</td>\n",
       "      <td>0</td>\n",
       "      <td>0</td>\n",
       "      <td>0</td>\n",
       "      <td>0</td>\n",
       "      <td>0</td>\n",
       "      <td>0</td>\n",
       "      <td>0</td>\n",
       "      <td>0</td>\n",
       "      <td>0</td>\n",
       "      <td>0</td>\n",
       "    </tr>\n",
       "    <tr>\n",
       "      <th>...</th>\n",
       "      <td>...</td>\n",
       "      <td>...</td>\n",
       "      <td>...</td>\n",
       "      <td>...</td>\n",
       "      <td>...</td>\n",
       "      <td>...</td>\n",
       "      <td>...</td>\n",
       "      <td>...</td>\n",
       "      <td>...</td>\n",
       "      <td>...</td>\n",
       "      <td>...</td>\n",
       "      <td>...</td>\n",
       "      <td>...</td>\n",
       "      <td>...</td>\n",
       "      <td>...</td>\n",
       "      <td>...</td>\n",
       "      <td>...</td>\n",
       "      <td>...</td>\n",
       "      <td>...</td>\n",
       "      <td>...</td>\n",
       "      <td>...</td>\n",
       "    </tr>\n",
       "    <tr>\n",
       "      <th>211037</th>\n",
       "      <td>edrbjwb</td>\n",
       "      <td>_____ is ruining _____ because kids these days.</td>\n",
       "      <td>True</td>\n",
       "      <td>0</td>\n",
       "      <td>0</td>\n",
       "      <td>0</td>\n",
       "      <td>0</td>\n",
       "      <td>0</td>\n",
       "      <td>0</td>\n",
       "      <td>0</td>\n",
       "      <td>...</td>\n",
       "      <td>0</td>\n",
       "      <td>0</td>\n",
       "      <td>0</td>\n",
       "      <td>0</td>\n",
       "      <td>0</td>\n",
       "      <td>0</td>\n",
       "      <td>0</td>\n",
       "      <td>0</td>\n",
       "      <td>0</td>\n",
       "      <td>0</td>\n",
       "    </tr>\n",
       "    <tr>\n",
       "      <th>211082</th>\n",
       "      <td>ed99rjp</td>\n",
       "      <td>yea I agree, and [NAME] is way younger so has ...</td>\n",
       "      <td>True</td>\n",
       "      <td>0</td>\n",
       "      <td>0</td>\n",
       "      <td>0</td>\n",
       "      <td>0</td>\n",
       "      <td>0</td>\n",
       "      <td>0</td>\n",
       "      <td>0</td>\n",
       "      <td>...</td>\n",
       "      <td>0</td>\n",
       "      <td>0</td>\n",
       "      <td>0</td>\n",
       "      <td>0</td>\n",
       "      <td>0</td>\n",
       "      <td>0</td>\n",
       "      <td>0</td>\n",
       "      <td>0</td>\n",
       "      <td>0</td>\n",
       "      <td>0</td>\n",
       "    </tr>\n",
       "    <tr>\n",
       "      <th>211113</th>\n",
       "      <td>efecc3d</td>\n",
       "      <td>Huh, assumed he was more of a grindr fella .....</td>\n",
       "      <td>True</td>\n",
       "      <td>0</td>\n",
       "      <td>0</td>\n",
       "      <td>0</td>\n",
       "      <td>0</td>\n",
       "      <td>0</td>\n",
       "      <td>0</td>\n",
       "      <td>0</td>\n",
       "      <td>...</td>\n",
       "      <td>0</td>\n",
       "      <td>0</td>\n",
       "      <td>0</td>\n",
       "      <td>0</td>\n",
       "      <td>0</td>\n",
       "      <td>0</td>\n",
       "      <td>0</td>\n",
       "      <td>0</td>\n",
       "      <td>0</td>\n",
       "      <td>0</td>\n",
       "    </tr>\n",
       "    <tr>\n",
       "      <th>211214</th>\n",
       "      <td>ef28nod</td>\n",
       "      <td>Well when you’ve imported about a gazillion of...</td>\n",
       "      <td>True</td>\n",
       "      <td>0</td>\n",
       "      <td>0</td>\n",
       "      <td>0</td>\n",
       "      <td>0</td>\n",
       "      <td>0</td>\n",
       "      <td>0</td>\n",
       "      <td>0</td>\n",
       "      <td>...</td>\n",
       "      <td>0</td>\n",
       "      <td>0</td>\n",
       "      <td>0</td>\n",
       "      <td>0</td>\n",
       "      <td>0</td>\n",
       "      <td>0</td>\n",
       "      <td>0</td>\n",
       "      <td>0</td>\n",
       "      <td>0</td>\n",
       "      <td>0</td>\n",
       "    </tr>\n",
       "    <tr>\n",
       "      <th>211224</th>\n",
       "      <td>edze9g4</td>\n",
       "      <td>Desktop link: ^^/r/HelperBot_ ^^Downvote ^^to ...</td>\n",
       "      <td>True</td>\n",
       "      <td>0</td>\n",
       "      <td>0</td>\n",
       "      <td>0</td>\n",
       "      <td>0</td>\n",
       "      <td>0</td>\n",
       "      <td>0</td>\n",
       "      <td>0</td>\n",
       "      <td>...</td>\n",
       "      <td>0</td>\n",
       "      <td>0</td>\n",
       "      <td>0</td>\n",
       "      <td>0</td>\n",
       "      <td>0</td>\n",
       "      <td>0</td>\n",
       "      <td>0</td>\n",
       "      <td>0</td>\n",
       "      <td>0</td>\n",
       "      <td>0</td>\n",
       "    </tr>\n",
       "  </tbody>\n",
       "</table>\n",
       "<p>3411 rows × 31 columns</p>\n",
       "</div>"
      ],
      "text/plain": [
       "             id                                               text  \\\n",
       "1       eemcysk   >sexuality shouldn’t be a grouping category I...   \n",
       "62      ee0ai3t  Oi us cancers don’t want him either! We respec...   \n",
       "195     ed0rtl7  I unfortunately can not afford a lawyer. Lucki...   \n",
       "262     eei8tja  OMG THOSE TINY SHOES! *desire to boop snoot in...   \n",
       "264     ee8zjas  I would pay money for [NAME] to not be my nurs...   \n",
       "...         ...                                                ...   \n",
       "211037  edrbjwb    _____ is ruining _____ because kids these days.   \n",
       "211082  ed99rjp  yea I agree, and [NAME] is way younger so has ...   \n",
       "211113  efecc3d   Huh, assumed he was more of a grindr fella .....   \n",
       "211214  ef28nod  Well when you’ve imported about a gazillion of...   \n",
       "211224  edze9g4  Desktop link: ^^/r/HelperBot_ ^^Downvote ^^to ...   \n",
       "\n",
       "        example_very_unclear  admiration  amusement  anger  annoyance  \\\n",
       "1                       True           0          0      0          0   \n",
       "62                      True           0          0      0          0   \n",
       "195                     True           0          0      0          0   \n",
       "262                     True           0          0      0          0   \n",
       "264                     True           0          0      0          0   \n",
       "...                      ...         ...        ...    ...        ...   \n",
       "211037                  True           0          0      0          0   \n",
       "211082                  True           0          0      0          0   \n",
       "211113                  True           0          0      0          0   \n",
       "211214                  True           0          0      0          0   \n",
       "211224                  True           0          0      0          0   \n",
       "\n",
       "        approval  caring  confusion  ...  love  nervousness  optimism  pride  \\\n",
       "1              0       0          0  ...     0            0         0      0   \n",
       "62             0       0          0  ...     0            0         0      0   \n",
       "195            0       0          0  ...     0            0         0      0   \n",
       "262            0       0          0  ...     0            0         0      0   \n",
       "264            0       0          0  ...     0            0         0      0   \n",
       "...          ...     ...        ...  ...   ...          ...       ...    ...   \n",
       "211037         0       0          0  ...     0            0         0      0   \n",
       "211082         0       0          0  ...     0            0         0      0   \n",
       "211113         0       0          0  ...     0            0         0      0   \n",
       "211214         0       0          0  ...     0            0         0      0   \n",
       "211224         0       0          0  ...     0            0         0      0   \n",
       "\n",
       "        realization  relief  remorse  sadness  surprise  neutral  \n",
       "1                 0       0        0        0         0        0  \n",
       "62                0       0        0        0         0        0  \n",
       "195               0       0        0        0         0        0  \n",
       "262               0       0        0        0         0        0  \n",
       "264               0       0        0        0         0        0  \n",
       "...             ...     ...      ...      ...       ...      ...  \n",
       "211037            0       0        0        0         0        0  \n",
       "211082            0       0        0        0         0        0  \n",
       "211113            0       0        0        0         0        0  \n",
       "211214            0       0        0        0         0        0  \n",
       "211224            0       0        0        0         0        0  \n",
       "\n",
       "[3411 rows x 31 columns]"
      ]
     },
     "execution_count": 11,
     "metadata": {},
     "output_type": "execute_result"
    }
   ],
   "source": [
    "df[df['example_very_unclear']==True]"
   ]
  },
  {
   "cell_type": "code",
   "execution_count": 12,
   "id": "de30e4b5-6c8a-46e1-83dc-ee2f44d7890a",
   "metadata": {},
   "outputs": [],
   "source": [
    "row_drop = df[df['example_very_unclear']==True].index\n",
    "df_cleaned = df.drop(index=row_drop,columns=['example_very_unclear'])"
   ]
  },
  {
   "cell_type": "code",
   "execution_count": 17,
   "id": "83e9de3d-89bd-4f39-bcb2-a2eeb24cd67c",
   "metadata": {},
   "outputs": [],
   "source": [
    "df_cleaned = df_cleaned.drop(columns=['id'])"
   ]
  },
  {
   "cell_type": "code",
   "execution_count": 18,
   "id": "d6369b58-eb7e-4b17-a317-43e20b0c61a0",
   "metadata": {},
   "outputs": [
    {
     "data": {
      "text/plain": [
       "(207814, 29)"
      ]
     },
     "execution_count": 18,
     "metadata": {},
     "output_type": "execute_result"
    }
   ],
   "source": [
    "df_cleaned.shape"
   ]
  },
  {
   "cell_type": "code",
   "execution_count": 15,
   "id": "aab5ab54-12ec-4999-823e-4452b2e74663",
   "metadata": {},
   "outputs": [
    {
     "data": {
      "text/plain": [
       "(211225, 31)"
      ]
     },
     "execution_count": 15,
     "metadata": {},
     "output_type": "execute_result"
    }
   ],
   "source": [
    "df.shape"
   ]
  },
  {
   "cell_type": "code",
   "execution_count": 19,
   "id": "88ba5d1e-12ed-4c07-b826-6c6a8a754a36",
   "metadata": {},
   "outputs": [
    {
     "data": {
      "text/html": [
       "<div>\n",
       "<style scoped>\n",
       "    .dataframe tbody tr th:only-of-type {\n",
       "        vertical-align: middle;\n",
       "    }\n",
       "\n",
       "    .dataframe tbody tr th {\n",
       "        vertical-align: top;\n",
       "    }\n",
       "\n",
       "    .dataframe thead th {\n",
       "        text-align: right;\n",
       "    }\n",
       "</style>\n",
       "<table border=\"1\" class=\"dataframe\">\n",
       "  <thead>\n",
       "    <tr style=\"text-align: right;\">\n",
       "      <th></th>\n",
       "      <th>text</th>\n",
       "      <th>admiration</th>\n",
       "      <th>amusement</th>\n",
       "      <th>anger</th>\n",
       "      <th>annoyance</th>\n",
       "      <th>approval</th>\n",
       "      <th>caring</th>\n",
       "      <th>confusion</th>\n",
       "      <th>curiosity</th>\n",
       "      <th>desire</th>\n",
       "      <th>...</th>\n",
       "      <th>love</th>\n",
       "      <th>nervousness</th>\n",
       "      <th>optimism</th>\n",
       "      <th>pride</th>\n",
       "      <th>realization</th>\n",
       "      <th>relief</th>\n",
       "      <th>remorse</th>\n",
       "      <th>sadness</th>\n",
       "      <th>surprise</th>\n",
       "      <th>neutral</th>\n",
       "    </tr>\n",
       "  </thead>\n",
       "  <tbody>\n",
       "    <tr>\n",
       "      <th>0</th>\n",
       "      <td>That game hurt.</td>\n",
       "      <td>0</td>\n",
       "      <td>0</td>\n",
       "      <td>0</td>\n",
       "      <td>0</td>\n",
       "      <td>0</td>\n",
       "      <td>0</td>\n",
       "      <td>0</td>\n",
       "      <td>0</td>\n",
       "      <td>0</td>\n",
       "      <td>...</td>\n",
       "      <td>0</td>\n",
       "      <td>0</td>\n",
       "      <td>0</td>\n",
       "      <td>0</td>\n",
       "      <td>0</td>\n",
       "      <td>0</td>\n",
       "      <td>0</td>\n",
       "      <td>1</td>\n",
       "      <td>0</td>\n",
       "      <td>0</td>\n",
       "    </tr>\n",
       "    <tr>\n",
       "      <th>2</th>\n",
       "      <td>You do right, if you don't care then fuck 'em!</td>\n",
       "      <td>0</td>\n",
       "      <td>0</td>\n",
       "      <td>0</td>\n",
       "      <td>0</td>\n",
       "      <td>0</td>\n",
       "      <td>0</td>\n",
       "      <td>0</td>\n",
       "      <td>0</td>\n",
       "      <td>0</td>\n",
       "      <td>...</td>\n",
       "      <td>0</td>\n",
       "      <td>0</td>\n",
       "      <td>0</td>\n",
       "      <td>0</td>\n",
       "      <td>0</td>\n",
       "      <td>0</td>\n",
       "      <td>0</td>\n",
       "      <td>0</td>\n",
       "      <td>0</td>\n",
       "      <td>1</td>\n",
       "    </tr>\n",
       "    <tr>\n",
       "      <th>3</th>\n",
       "      <td>Man I love reddit.</td>\n",
       "      <td>0</td>\n",
       "      <td>0</td>\n",
       "      <td>0</td>\n",
       "      <td>0</td>\n",
       "      <td>0</td>\n",
       "      <td>0</td>\n",
       "      <td>0</td>\n",
       "      <td>0</td>\n",
       "      <td>0</td>\n",
       "      <td>...</td>\n",
       "      <td>1</td>\n",
       "      <td>0</td>\n",
       "      <td>0</td>\n",
       "      <td>0</td>\n",
       "      <td>0</td>\n",
       "      <td>0</td>\n",
       "      <td>0</td>\n",
       "      <td>0</td>\n",
       "      <td>0</td>\n",
       "      <td>0</td>\n",
       "    </tr>\n",
       "    <tr>\n",
       "      <th>4</th>\n",
       "      <td>[NAME] was nowhere near them, he was by the Fa...</td>\n",
       "      <td>0</td>\n",
       "      <td>0</td>\n",
       "      <td>0</td>\n",
       "      <td>0</td>\n",
       "      <td>0</td>\n",
       "      <td>0</td>\n",
       "      <td>0</td>\n",
       "      <td>0</td>\n",
       "      <td>0</td>\n",
       "      <td>...</td>\n",
       "      <td>0</td>\n",
       "      <td>0</td>\n",
       "      <td>0</td>\n",
       "      <td>0</td>\n",
       "      <td>0</td>\n",
       "      <td>0</td>\n",
       "      <td>0</td>\n",
       "      <td>0</td>\n",
       "      <td>0</td>\n",
       "      <td>1</td>\n",
       "    </tr>\n",
       "    <tr>\n",
       "      <th>5</th>\n",
       "      <td>Right? Considering it’s such an important docu...</td>\n",
       "      <td>0</td>\n",
       "      <td>0</td>\n",
       "      <td>0</td>\n",
       "      <td>0</td>\n",
       "      <td>0</td>\n",
       "      <td>0</td>\n",
       "      <td>0</td>\n",
       "      <td>0</td>\n",
       "      <td>0</td>\n",
       "      <td>...</td>\n",
       "      <td>0</td>\n",
       "      <td>0</td>\n",
       "      <td>0</td>\n",
       "      <td>0</td>\n",
       "      <td>0</td>\n",
       "      <td>0</td>\n",
       "      <td>0</td>\n",
       "      <td>0</td>\n",
       "      <td>0</td>\n",
       "      <td>0</td>\n",
       "    </tr>\n",
       "  </tbody>\n",
       "</table>\n",
       "<p>5 rows × 29 columns</p>\n",
       "</div>"
      ],
      "text/plain": [
       "                                                text  admiration  amusement  \\\n",
       "0                                    That game hurt.           0          0   \n",
       "2     You do right, if you don't care then fuck 'em!           0          0   \n",
       "3                                 Man I love reddit.           0          0   \n",
       "4  [NAME] was nowhere near them, he was by the Fa...           0          0   \n",
       "5  Right? Considering it’s such an important docu...           0          0   \n",
       "\n",
       "   anger  annoyance  approval  caring  confusion  curiosity  desire  ...  \\\n",
       "0      0          0         0       0          0          0       0  ...   \n",
       "2      0          0         0       0          0          0       0  ...   \n",
       "3      0          0         0       0          0          0       0  ...   \n",
       "4      0          0         0       0          0          0       0  ...   \n",
       "5      0          0         0       0          0          0       0  ...   \n",
       "\n",
       "   love  nervousness  optimism  pride  realization  relief  remorse  sadness  \\\n",
       "0     0            0         0      0            0       0        0        1   \n",
       "2     0            0         0      0            0       0        0        0   \n",
       "3     1            0         0      0            0       0        0        0   \n",
       "4     0            0         0      0            0       0        0        0   \n",
       "5     0            0         0      0            0       0        0        0   \n",
       "\n",
       "   surprise  neutral  \n",
       "0         0        0  \n",
       "2         0        1  \n",
       "3         0        0  \n",
       "4         0        1  \n",
       "5         0        0  \n",
       "\n",
       "[5 rows x 29 columns]"
      ]
     },
     "execution_count": 19,
     "metadata": {},
     "output_type": "execute_result"
    }
   ],
   "source": [
    "df_cleaned.head()"
   ]
  },
  {
   "cell_type": "code",
   "execution_count": 21,
   "id": "9fb968e3-91d6-417e-9d1d-8f1991c6096f",
   "metadata": {},
   "outputs": [],
   "source": [
    "def clean_text(text):\n",
    "    text = re.sub(r'http\\S+|www\\S+|https\\S+', '', text, flags=re.MULTILINE)\n",
    "    text = re.sub(r'\\@\\w+', '[USER]', text)\n",
    "    text = re.sub(r'<.*?>', '', text)\n",
    "    text = text.strip()\n",
    "    return text"
   ]
  },
  {
   "cell_type": "code",
   "execution_count": 22,
   "id": "1b6cab7c-3e0c-4b53-b459-30d95ef1eb04",
   "metadata": {},
   "outputs": [],
   "source": [
    "df_cleaned['text'] = df_cleaned['text'].astype(str).apply(clean_text)"
   ]
  },
  {
   "cell_type": "code",
   "execution_count": 23,
   "id": "09714414-edff-43a9-b02a-31f797c553cd",
   "metadata": {},
   "outputs": [
    {
     "data": {
      "text/plain": [
       "0                                      That game hurt.\n",
       "2       You do right, if you don't care then fuck 'em!\n",
       "3                                   Man I love reddit.\n",
       "4    [NAME] was nowhere near them, he was by the Fa...\n",
       "5    Right? Considering it’s such an important docu...\n",
       "Name: text, dtype: object"
      ]
     },
     "execution_count": 23,
     "metadata": {},
     "output_type": "execute_result"
    }
   ],
   "source": [
    "df_cleaned['text'].head()"
   ]
  },
  {
   "cell_type": "code",
   "execution_count": 29,
   "id": "8466b2b4-5030-4514-b4ef-7385c5a86888",
   "metadata": {},
   "outputs": [],
   "source": [
    "emotion_cols = df_cleaned.columns[1:]"
   ]
  },
  {
   "cell_type": "code",
   "execution_count": 30,
   "id": "54a4d7e7-cbbf-4cd7-947d-2714d1fb1f3e",
   "metadata": {},
   "outputs": [
    {
     "data": {
      "text/plain": [
       "Index(['admiration', 'amusement', 'anger', 'annoyance', 'approval', 'caring',\n",
       "       'confusion', 'curiosity', 'desire', 'disappointment', 'disapproval',\n",
       "       'disgust', 'embarrassment', 'excitement', 'fear', 'gratitude', 'grief',\n",
       "       'joy', 'love', 'nervousness', 'optimism', 'pride', 'realization',\n",
       "       'relief', 'remorse', 'sadness', 'surprise', 'neutral'],\n",
       "      dtype='object')"
      ]
     },
     "execution_count": 30,
     "metadata": {},
     "output_type": "execute_result"
    }
   ],
   "source": [
    "emotion_cols"
   ]
  },
  {
   "cell_type": "code",
   "execution_count": 31,
   "id": "7cec97f1-e6a8-4032-afaf-a3f0e54bb79a",
   "metadata": {},
   "outputs": [
    {
     "name": "stdout",
     "output_type": "stream",
     "text": [
      "\n",
      "Identified 28 emotion label columns: ['admiration', 'amusement', 'anger', 'annoyance', 'approval', 'caring', 'confusion', 'curiosity', 'desire', 'disappointment', 'disapproval', 'disgust', 'embarrassment', 'excitement', 'fear', 'gratitude', 'grief', 'joy', 'love', 'nervousness', 'optimism', 'pride', 'realization', 'relief', 'remorse', 'sadness', 'surprise', 'neutral']\n"
     ]
    }
   ],
   "source": [
    "print(f\"\\nIdentified {len(emotion_cols)} emotion label columns: {emotion_cols.tolist()}\")"
   ]
  },
  {
   "cell_type": "code",
   "execution_count": 32,
   "id": "09353a99-3d7b-4e95-9b53-5305a2f2e10a",
   "metadata": {},
   "outputs": [],
   "source": [
    "labels = df_cleaned[emotion_cols].copy()"
   ]
  },
  {
   "cell_type": "code",
   "execution_count": 33,
   "id": "b2d9ba02-0691-42b7-8e4b-587fae68c769",
   "metadata": {},
   "outputs": [],
   "source": [
    "df_feature = df_cleaned['text'].copy()"
   ]
  },
  {
   "cell_type": "code",
   "execution_count": 34,
   "id": "325ab3b0-abdc-4959-a7c1-8345977ea5bb",
   "metadata": {},
   "outputs": [
    {
     "data": {
      "text/plain": [
       "(207814,)"
      ]
     },
     "execution_count": 34,
     "metadata": {},
     "output_type": "execute_result"
    }
   ],
   "source": [
    "df_feature.shape"
   ]
  },
  {
   "cell_type": "code",
   "execution_count": 35,
   "id": "4640458c-803c-46e2-aa77-ce3b9db232cb",
   "metadata": {},
   "outputs": [
    {
     "data": {
      "text/plain": [
       "(207814, 28)"
      ]
     },
     "execution_count": 35,
     "metadata": {},
     "output_type": "execute_result"
    }
   ],
   "source": [
    "labels.shape"
   ]
  },
  {
   "cell_type": "code",
   "execution_count": 38,
   "id": "e76a0ed3-6bb2-4cf8-9c05-e5c5f6bcd61b",
   "metadata": {},
   "outputs": [
    {
     "name": "stdout",
     "output_type": "stream",
     "text": [
      "sum of labels per text: 1     171820\n",
      "2      31187\n",
      "3       4218\n",
      "4        399\n",
      "5        106\n",
      "6         53\n",
      "7         20\n",
      "8          6\n",
      "9          3\n",
      "10         1\n",
      "12         1\n",
      "Name: count, dtype: int64\n",
      "average label cardinality: 1.2007323856910506\n"
     ]
    }
   ],
   "source": [
    "label_cardinality = labels.sum(axis=1)\n",
    "print('sum of labels per text:',label_cardinality.value_counts().sort_index())\n",
    "print('average label cardinality:',label_cardinality.mean())"
   ]
  },
  {
   "cell_type": "code",
   "execution_count": 55,
   "id": "da5dd3fe-9494-41dc-a437-25e951c39a92",
   "metadata": {},
   "outputs": [
    {
     "name": "stdout",
     "output_type": "stream",
     "text": [
      "label density: 0.04288329948896609\n"
     ]
    }
   ],
   "source": [
    "label_density = label_cardinality.mean() / len(labels.columns)\n",
    "print('label density:',label_density)"
   ]
  },
  {
   "cell_type": "code",
   "execution_count": 52,
   "id": "e63edb95-0cc1-494c-aef6-1a8baa875f27",
   "metadata": {},
   "outputs": [
    {
     "data": {
      "image/png": "[encoded data removed]",
      "text/plain": [
       "<Figure size 1500x700 with 1 Axes>"
      ]
     },
     "metadata": {},
     "output_type": "display_data"
    }
   ],
   "source": [
    "plt.figure(figsize=(15,7))\n",
    "sns.barplot(x=labels.sum().sort_values(ascending=False).index, y =labels.sum().sort_values(ascending=False).values)\n",
    "plt.title('Distribution of samples per Emotion')\n",
    "plt.xlabel('Emotion Label')\n",
    "plt.ylabel('Number of Samples')\n",
    "plt.xticks(rotation=90)\n",
    "plt.tight_layout()"
   ]
  },
  {
   "cell_type": "code",
   "execution_count": 56,
   "id": "b554221d-c0f1-4373-97d1-478e038f9d7a",
   "metadata": {},
   "outputs": [],
   "source": [
    "from sklearn.model_selection import train_test_split"
   ]
  },
  {
   "cell_type": "code",
   "execution_count": 58,
   "id": "2462e92e-e63b-4261-b1d5-b510bcbe14e0",
   "metadata": {},
   "outputs": [],
   "source": [
    "X = df_feature\n",
    "y = labels\n",
    "X_train, X_temp, y_train, y_temp = train_test_split(X,y,test_size=0.2,random_state=42)\n",
    "X_val, X_test, y_val, y_test = train_test_split(X,y,test_size=0.5,random_state=42)"
   ]
  },
  {
   "cell_type": "code",
   "execution_count": 60,
   "id": "b93fdf37-10db-4340-835f-d11cc8b54fed",
   "metadata": {},
   "outputs": [
    {
     "name": "stdout",
     "output_type": "stream",
     "text": [
      "\n",
      "Shape of X_train: (166251,)\n",
      "Shape of Y_train: (166251, 28)\n",
      "Shape of X_val: (103907,)\n",
      "Shape of Y_val: (103907, 28)\n",
      "Shape of X_test: (103907,)\n",
      "Shape of Y_test: (103907, 28)\n"
     ]
    }
   ],
   "source": [
    "print(f\"\\nShape of X_train: {X_train.shape}\")\n",
    "print(f\"Shape of Y_train: {y_train.shape}\")\n",
    "print(f\"Shape of X_val: {X_val.shape}\")\n",
    "print(f\"Shape of Y_val: {y_val.shape}\")\n",
    "print(f\"Shape of X_test: {X_test.shape}\")\n",
    "print(f\"Shape of Y_test: {y_test.shape}\")"
   ]
  },
  {
   "cell_type": "code",
   "execution_count": 61,
   "id": "04c176f1-3902-4c08-badf-559aa3d30413",
   "metadata": {},
   "outputs": [],
   "source": [
    "from transformers import BertTokenizer\n",
    "import torch"
   ]
  },
  {
   "cell_type": "code",
   "execution_count": 62,
   "id": "ea73dac5-e789-4e47-83f9-8346ede7deb3",
   "metadata": {},
   "outputs": [
    {
     "data": {
      "application/vnd.jupyter.widget-view+json": {
       "model_id": "f7d69f1d2b4642b8832921b6a367e211",
       "version_major": 2,
       "version_minor": 0
      },
      "text/plain": [
       "tokenizer_config.json:   0%|          | 0.00/48.0 [00:00<?, ?B/s]"
      ]
     },
     "metadata": {},
     "output_type": "display_data"
    },
    {
     "name": "stderr",
     "output_type": "stream",
     "text": [
      "F:\\anaconda\\envs\\AI_env\\lib\\site-packages\\huggingface_hub\\file_download.py:144: UserWarning: `huggingface_hub` cache-system uses symlinks by default to efficiently store duplicated files but your machine does not support them in C:\\Users\\LAPTOP INSIDE\\.cache\\huggingface\\hub\\models--bert-base-uncased. Caching files will still work but in a degraded version that might require more space on your disk. This warning can be disabled by setting the `HF_HUB_DISABLE_SYMLINKS_WARNING` environment variable. For more details, see https://huggingface.co/docs/huggingface_hub/how-to-cache#limitations.\n",
      "To support symlinks on Windows, you either need to activate Developer Mode or to run Python as an administrator. In order to activate developer mode, see this article: https://docs.microsoft.com/en-us/windows/apps/get-started/enable-your-device-for-development\n",
      "  warnings.warn(message)\n"
     ]
    },
    {
     "data": {
      "application/vnd.jupyter.widget-view+json": {
       "model_id": "c0ed2004253a44ed80c4f60733ca4f4a",
       "version_major": 2,
       "version_minor": 0
      },
      "text/plain": [
       "vocab.txt:   0%|          | 0.00/232k [00:00<?, ?B/s]"
      ]
     },
     "metadata": {},
     "output_type": "display_data"
    },
    {
     "data": {
      "application/vnd.jupyter.widget-view+json": {
       "model_id": "f36ebb725ddd48d3a0c58d3bc0d742fd",
       "version_major": 2,
       "version_minor": 0
      },
      "text/plain": [
       "tokenizer.json:   0%|          | 0.00/466k [00:00<?, ?B/s]"
      ]
     },
     "metadata": {},
     "output_type": "display_data"
    },
    {
     "data": {
      "application/vnd.jupyter.widget-view+json": {
       "model_id": "2c50045aec9248078f8f7090b5bda1ce",
       "version_major": 2,
       "version_minor": 0
      },
      "text/plain": [
       "config.json:   0%|          | 0.00/570 [00:00<?, ?B/s]"
      ]
     },
     "metadata": {},
     "output_type": "display_data"
    }
   ],
   "source": [
    "model_checkpoint = 'bert-base-uncased'\n",
    "tokenizer = BertTokenizer.from_pretrained(model_checkpoint)"
   ]
  },
  {
   "cell_type": "code",
   "execution_count": 63,
   "id": "830a8bbf-81af-4eb9-9618-122b835498ab",
   "metadata": {},
   "outputs": [],
   "source": [
    "max_length = 128"
   ]
  },
  {
   "cell_type": "code",
   "execution_count": 78,
   "id": "2b41d262-faaf-4ad8-8c89-4ecc13c6f7ea",
   "metadata": {},
   "outputs": [],
   "source": [
    "def tokenize_data(tokenizer, text, max_length):\n",
    "    encodings = tokenizer(text.to_list(), truncation=True, padding='max_length', max_length=max_length,return_tensors='pt')\n",
    "    return encodings['input_ids'], encodings['attention_mask']"
   ]
  },
  {
   "cell_type": "code",
   "execution_count": 73,
   "id": "81c09bc8-fb1d-48f8-96fd-98857fa52b52",
   "metadata": {},
   "outputs": [],
   "source": [
    "X_train = X_train.astype(str)\n",
    "X_val = X_val.astype(str)\n",
    "X_test = X_test.astype(str)"
   ]
  },
  {
   "cell_type": "code",
   "execution_count": 76,
   "id": "d701e2c2-61dd-4ea4-9b8e-4ffecd5bd101",
   "metadata": {},
   "outputs": [
    {
     "data": {
      "text/plain": [
       "str"
      ]
     },
     "execution_count": 76,
     "metadata": {},
     "output_type": "execute_result"
    }
   ],
   "source": [
    "type(X_train[0])"
   ]
  },
  {
   "cell_type": "code",
   "execution_count": 79,
   "id": "6b580a71-2e15-4c8a-9bbc-fb8fa00d5f58",
   "metadata": {},
   "outputs": [],
   "source": [
    "train_input_ids, train_attention_masks = tokenize_data(tokenizer,X_train.astype(str),max_length)\n",
    "val_input_ids, val_attention_masks = tokenize_data(tokenizer,X_val.astype(str),max_length)\n",
    "test_input_ids, test_attention_masks = tokenize_data(tokenizer,X_test.astype(str),max_length)"
   ]
  },
  {
   "cell_type": "code",
   "execution_count": 80,
   "id": "a117a7b2-16a3-47bd-bf5e-fd1e8e9347e6",
   "metadata": {},
   "outputs": [
    {
     "name": "stdout",
     "output_type": "stream",
     "text": [
      "Train input IDs: torch.Size([166251, 128])\n",
      "Train attention masks: torch.Size([166251, 128])\n",
      "Validation input IDs: torch.Size([103907, 128])\n",
      "Validation attention masks: torch.Size([103907, 128])\n",
      "Test input IDs: torch.Size([103907, 128])\n",
      "Test attention masks: torch.Size([103907, 128])\n"
     ]
    }
   ],
   "source": [
    "print(f\"Train input IDs: {train_input_ids.shape}\")\n",
    "print(f\"Train attention masks: {train_attention_masks.shape}\")\n",
    "print(f\"Validation input IDs: {val_input_ids.shape}\")\n",
    "print(f\"Validation attention masks: {val_attention_masks.shape}\")\n",
    "print(f\"Test input IDs: {test_input_ids.shape}\")\n",
    "print(f\"Test attention masks: {test_attention_masks.shape}\")"
   ]
  },
  {
   "cell_type": "code",
   "execution_count": 81,
   "id": "b9c1e9ab-5551-4012-acf0-e3ac4b2dab94",
   "metadata": {},
   "outputs": [],
   "source": [
    "y_train_tensor = torch.tensor(y_train.values, dtype=torch.float32)\n",
    "y_val_tensor = torch.tensor(y_val.values, dtype=torch.float32)\n",
    "y_test_tensor = torch.tensor(y_test.values, dtype=torch.float32)"
   ]
  },
  {
   "cell_type": "code",
   "execution_count": 83,
   "id": "8ed3d21f-2a9d-4a3a-b51d-b843dd2dd584",
   "metadata": {},
   "outputs": [
    {
     "name": "stdout",
     "output_type": "stream",
     "text": [
      "Train labels: torch.Size([166251, 28])\n",
      "Validation labels: torch.Size([103907, 28])\n",
      "Test labels: torch.Size([103907, 28])\n"
     ]
    }
   ],
   "source": [
    "print(f\"Train labels: {y_train_tensor.shape}\")\n",
    "print(f\"Validation labels: {y_val_tensor.shape}\")\n",
    "print(f\"Test labels: {y_test_tensor.shape}\")"
   ]
  },
  {
   "cell_type": "code",
   "execution_count": 88,
   "id": "6b13dd3b-10ce-4db2-8285-a249e465e6ff",
   "metadata": {},
   "outputs": [],
   "source": [
    "positive_counts = y_train.sum(axis=0)\n",
    "total_samples = len(y_train)\n",
    "epsilon = 1e-7\n",
    "\n",
    "class_weight = total_samples / (positive_counts + epsilon)"
   ]
  },
  {
   "cell_type": "code",
   "execution_count": 89,
   "id": "c63f03dc-041e-4ad5-b8ec-b8c8cf945271",
   "metadata": {},
   "outputs": [
    {
     "data": {
      "text/plain": [
       "admiration         12.133338\n",
       "amusement          22.285657\n",
       "anger              25.964548\n",
       "annoyance          15.321261\n",
       "approval           11.817671\n",
       "caring             34.563617\n",
       "confusion          28.346292\n",
       "curiosity          21.535104\n",
       "desire             55.251246\n",
       "disappointment     24.402026\n",
       "disapproval        18.267333\n",
       "disgust            39.527104\n",
       "embarrassment      85.038875\n",
       "excitement         37.010463\n",
       "fear               64.638802\n",
       "gratitude          17.872608\n",
       "grief             309.016729\n",
       "joy                26.152430\n",
       "love               25.510358\n",
       "nervousness       114.497934\n",
       "optimism           23.750143\n",
       "pride             159.244253\n",
       "realization        23.675733\n",
       "relief            163.311395\n",
       "remorse            81.137628\n",
       "sadness            31.011192\n",
       "surprise           37.707190\n",
       "neutral             3.747346\n",
       "dtype: float64"
      ]
     },
     "execution_count": 89,
     "metadata": {},
     "output_type": "execute_result"
    }
   ],
   "source": [
    "class_weight"
   ]
  },
  {
   "cell_type": "code",
   "execution_count": 90,
   "id": "b7fced41-0b20-41a3-bc91-978a21cf5a9d",
   "metadata": {},
   "outputs": [
    {
     "data": {
      "text/plain": [
       "admiration        0.224582\n",
       "amusement         0.412496\n",
       "anger             0.480590\n",
       "annoyance         0.283589\n",
       "approval          0.218739\n",
       "caring            0.639755\n",
       "confusion         0.524675\n",
       "curiosity         0.398604\n",
       "desire            1.022672\n",
       "disappointment    0.451669\n",
       "disapproval       0.338119\n",
       "disgust           0.731626\n",
       "embarrassment     1.574025\n",
       "excitement        0.685044\n",
       "fear              1.196431\n",
       "gratitude         0.330813\n",
       "grief             5.719739\n",
       "joy               0.484068\n",
       "love              0.472183\n",
       "nervousness       2.119297\n",
       "optimism          0.439603\n",
       "pride             2.947528\n",
       "realization       0.438226\n",
       "relief            3.022809\n",
       "remorse           1.501815\n",
       "sadness           0.574001\n",
       "surprise          0.697941\n",
       "neutral           0.069361\n",
       "dtype: float64"
      ]
     },
     "execution_count": 90,
     "metadata": {},
     "output_type": "execute_result"
    }
   ],
   "source": [
    "class_weight = class_weight / class_weight.sum() * len(labels.columns)\n",
    "class_weight"
   ]
  },
  {
   "cell_type": "code",
   "execution_count": 91,
   "id": "3d5c749d-5bbc-45b6-9b37-450e9b6cdf52",
   "metadata": {},
   "outputs": [],
   "source": [
    "class_weight_tensor = torch.tensor(class_weight.values, dtype=torch.float32)"
   ]
  },
  {
   "cell_type": "code",
   "execution_count": 93,
   "id": "9fc8397e-522a-48dc-b4d4-75246dd807fd",
   "metadata": {},
   "outputs": [
    {
     "name": "stdout",
     "output_type": "stream",
     "text": [
      "\n",
      "Class Weights Tensor Shape: torch.Size([28])\n"
     ]
    }
   ],
   "source": [
    "print(\"\\nClass Weights Tensor Shape:\", class_weight_tensor.shape)"
   ]
  },
  {
   "cell_type": "code",
   "execution_count": 94,
   "id": "1c15c531-305c-4f23-8bc2-3a4c0bfe874b",
   "metadata": {},
   "outputs": [],
   "source": [
    "from transformers import BertForSequenceClassification, Trainer, TrainingArguments\n",
    "from torch.utils.data import TensorDataset\n",
    "from sklearn.metrics import hamming_loss, f1_score\n",
    "import torch"
   ]
  },
  {
   "cell_type": "code",
   "execution_count": 97,
   "id": "d4e35e92-cefe-4705-ba60-e64aae34ecff",
   "metadata": {},
   "outputs": [],
   "source": [
    "num_label = len(labels.columns)"
   ]
  },
  {
   "cell_type": "code",
   "execution_count": 101,
   "id": "61a86a9a-9c75-4621-a98c-0a3b6b5e9fe5",
   "metadata": {},
   "outputs": [
    {
     "name": "stderr",
     "output_type": "stream",
     "text": [
      "Some weights of BertForSequenceClassification were not initialized from the model checkpoint at bert-base-uncased and are newly initialized: ['classifier.bias', 'classifier.weight']\n",
      "You should probably TRAIN this model on a down-stream task to be able to use it for predictions and inference.\n"
     ]
    }
   ],
   "source": [
    "model = BertForSequenceClassification.from_pretrained(model_checkpoint,num_labels=num_label)"
   ]
  },
  {
   "cell_type": "code",
   "execution_count": 102,
   "id": "fb4392d2-6ab3-4bfc-a120-9066c3de9c5f",
   "metadata": {},
   "outputs": [],
   "source": [
    "training_args = TrainingArguments(\n",
    "    output_dir='./results',\n",
    "    num_train_epochs=3,\n",
    "    learning_rate=5e-5,\n",
    "    per_device_train_batch_size=16,\n",
    "    per_device_eval_batch_size=16,\n",
    "    weight_decay=0.01,\n",
    "    eval_strategy='epoch',\n",
    "    logging_dir='./logs',\n",
    "    logging_strategy='epoch'\n",
    ")"
   ]
  },
  {
   "cell_type": "code",
   "execution_count": 103,
   "id": "486ceacd-fdb9-4c88-ac35-52fae8920086",
   "metadata": {},
   "outputs": [],
   "source": [
    "train_dataset = TensorDataset(train_input_ids, train_attention_masks, y_train_tensor)\n",
    "val_dataset = TensorDataset(val_input_ids, val_attention_masks, y_val_tensor)"
   ]
  },
  {
   "cell_type": "code",
   "execution_count": 109,
   "id": "aae3964d-06e7-48ec-a9b8-7d404c3253b2",
   "metadata": {},
   "outputs": [],
   "source": [
    "'''\n",
    "def compute_metrics(p):\n",
    "    preds = torch.sigmoid(torch.tensor(p.predictions)).numpy()\n",
    "    labels = p.labels_ids\n",
    "    binary_preds = (preds>0.5).astype(int)\n",
    "    h_loss = hamming_loss(labels,binary_preds)\n",
    "    f1_micro = f1_score(labels,binary_preds,average='micro')\n",
    "    f1_macro = f1_score(labels,binary_preds,average='macro')\n",
    "    return {'humming loss':h_loss, 'f1_micro':f1_micro, 'f1_macro':f1_macro}\n",
    "'''\n",
    "def compute_metrics(p):\n",
    "    print(\"compute_metrics function was called!\")\n",
    "    return {\n",
    "        'dummy_loss':0.0,\n",
    "        'dummy_f1':0.0\n",
    "    }"
   ]
  },
  {
   "cell_type": "code",
   "execution_count": 110,
   "id": "0455774a-6197-4aa3-83d6-1f02b7f4d877",
   "metadata": {},
   "outputs": [],
   "source": [
    "trainer = Trainer(\n",
    "    model=model,\n",
    "    args=training_args,\n",
    "    train_dataset=train_dataset,\n",
    "    eval_dataset=val_dataset,\n",
    "    compute_metrics=compute_metrics\n",
    ")"
   ]
  },
  {
   "cell_type": "code",
   "execution_count": 111,
   "id": "a563afb6-c6b9-444a-95e7-3e011c77be98",
   "metadata": {},
   "outputs": [
    {
     "ename": "TypeError",
     "evalue": "vars() argument must have __dict__ attribute",
     "output_type": "error",
     "traceback": [
      "\u001b[1;31m---------------------------------------------------------------------------\u001b[0m",
      "\u001b[1;31mTypeError\u001b[0m                                 Traceback (most recent call last)",
      "Cell \u001b[1;32mIn[111], line 1\u001b[0m\n\u001b[1;32m----> 1\u001b[0m \u001b[43mtrainer\u001b[49m\u001b[38;5;241;43m.\u001b[39;49m\u001b[43mtrain\u001b[49m\u001b[43m(\u001b[49m\u001b[43m)\u001b[49m\n",
      "File \u001b[1;32mF:\\anaconda\\envs\\AI_env\\lib\\site-packages\\transformers\\trainer.py:2245\u001b[0m, in \u001b[0;36mTrainer.train\u001b[1;34m(self, resume_from_checkpoint, trial, ignore_keys_for_eval, **kwargs)\u001b[0m\n\u001b[0;32m   2243\u001b[0m         hf_hub_utils\u001b[38;5;241m.\u001b[39menable_progress_bars()\n\u001b[0;32m   2244\u001b[0m \u001b[38;5;28;01melse\u001b[39;00m:\n\u001b[1;32m-> 2245\u001b[0m     \u001b[38;5;28;01mreturn\u001b[39;00m \u001b[43minner_training_loop\u001b[49m\u001b[43m(\u001b[49m\n\u001b[0;32m   2246\u001b[0m \u001b[43m        \u001b[49m\u001b[43margs\u001b[49m\u001b[38;5;241;43m=\u001b[39;49m\u001b[43margs\u001b[49m\u001b[43m,\u001b[49m\n\u001b[0;32m   2247\u001b[0m \u001b[43m        \u001b[49m\u001b[43mresume_from_checkpoint\u001b[49m\u001b[38;5;241;43m=\u001b[39;49m\u001b[43mresume_from_checkpoint\u001b[49m\u001b[43m,\u001b[49m\n\u001b[0;32m   2248\u001b[0m \u001b[43m        \u001b[49m\u001b[43mtrial\u001b[49m\u001b[38;5;241;43m=\u001b[39;49m\u001b[43mtrial\u001b[49m\u001b[43m,\u001b[49m\n\u001b[0;32m   2249\u001b[0m \u001b[43m        \u001b[49m\u001b[43mignore_keys_for_eval\u001b[49m\u001b[38;5;241;43m=\u001b[39;49m\u001b[43mignore_keys_for_eval\u001b[49m\u001b[43m,\u001b[49m\n\u001b[0;32m   2250\u001b[0m \u001b[43m    \u001b[49m\u001b[43m)\u001b[49m\n",
      "File \u001b[1;32mF:\\anaconda\\envs\\AI_env\\lib\\site-packages\\transformers\\trainer.py:2514\u001b[0m, in \u001b[0;36mTrainer._inner_training_loop\u001b[1;34m(self, batch_size, args, resume_from_checkpoint, trial, ignore_keys_for_eval)\u001b[0m\n\u001b[0;32m   2512\u001b[0m update_step \u001b[38;5;241m+\u001b[39m\u001b[38;5;241m=\u001b[39m \u001b[38;5;241m1\u001b[39m\n\u001b[0;32m   2513\u001b[0m num_batches \u001b[38;5;241m=\u001b[39m args\u001b[38;5;241m.\u001b[39mgradient_accumulation_steps \u001b[38;5;28;01mif\u001b[39;00m update_step \u001b[38;5;241m!=\u001b[39m (total_updates \u001b[38;5;241m-\u001b[39m \u001b[38;5;241m1\u001b[39m) \u001b[38;5;28;01melse\u001b[39;00m remainder\n\u001b[1;32m-> 2514\u001b[0m batch_samples, num_items_in_batch \u001b[38;5;241m=\u001b[39m \u001b[38;5;28;43mself\u001b[39;49m\u001b[38;5;241;43m.\u001b[39;49m\u001b[43mget_batch_samples\u001b[49m\u001b[43m(\u001b[49m\u001b[43mepoch_iterator\u001b[49m\u001b[43m,\u001b[49m\u001b[43m \u001b[49m\u001b[43mnum_batches\u001b[49m\u001b[43m,\u001b[49m\u001b[43m \u001b[49m\u001b[43margs\u001b[49m\u001b[38;5;241;43m.\u001b[39;49m\u001b[43mdevice\u001b[49m\u001b[43m)\u001b[49m\n\u001b[0;32m   2515\u001b[0m \u001b[38;5;28;01mfor\u001b[39;00m i, inputs \u001b[38;5;129;01min\u001b[39;00m \u001b[38;5;28menumerate\u001b[39m(batch_samples):\n\u001b[0;32m   2516\u001b[0m     step \u001b[38;5;241m+\u001b[39m\u001b[38;5;241m=\u001b[39m \u001b[38;5;241m1\u001b[39m\n",
      "File \u001b[1;32mF:\\anaconda\\envs\\AI_env\\lib\\site-packages\\transformers\\trainer.py:5243\u001b[0m, in \u001b[0;36mTrainer.get_batch_samples\u001b[1;34m(self, epoch_iterator, num_batches, device)\u001b[0m\n\u001b[0;32m   5241\u001b[0m \u001b[38;5;28;01mfor\u001b[39;00m _ \u001b[38;5;129;01min\u001b[39;00m \u001b[38;5;28mrange\u001b[39m(num_batches):\n\u001b[0;32m   5242\u001b[0m     \u001b[38;5;28;01mtry\u001b[39;00m:\n\u001b[1;32m-> 5243\u001b[0m         batch_samples\u001b[38;5;241m.\u001b[39mappend(\u001b[38;5;28;43mnext\u001b[39;49m\u001b[43m(\u001b[49m\u001b[43mepoch_iterator\u001b[49m\u001b[43m)\u001b[49m)\n\u001b[0;32m   5244\u001b[0m     \u001b[38;5;28;01mexcept\u001b[39;00m \u001b[38;5;167;01mStopIteration\u001b[39;00m:\n\u001b[0;32m   5245\u001b[0m         \u001b[38;5;28;01mbreak\u001b[39;00m\n",
      "File \u001b[1;32mF:\\anaconda\\envs\\AI_env\\lib\\site-packages\\accelerate\\data_loader.py:566\u001b[0m, in \u001b[0;36mDataLoaderShard.__iter__\u001b[1;34m(self)\u001b[0m\n\u001b[0;32m    564\u001b[0m \u001b[38;5;66;03m# We iterate one batch ahead to check when we are at the end\u001b[39;00m\n\u001b[0;32m    565\u001b[0m \u001b[38;5;28;01mtry\u001b[39;00m:\n\u001b[1;32m--> 566\u001b[0m     current_batch \u001b[38;5;241m=\u001b[39m \u001b[38;5;28;43mnext\u001b[39;49m\u001b[43m(\u001b[49m\u001b[43mdataloader_iter\u001b[49m\u001b[43m)\u001b[49m\n\u001b[0;32m    567\u001b[0m \u001b[38;5;28;01mexcept\u001b[39;00m \u001b[38;5;167;01mStopIteration\u001b[39;00m:\n\u001b[0;32m    568\u001b[0m     \u001b[38;5;28;01myield\u001b[39;00m\n",
      "File \u001b[1;32mF:\\anaconda\\envs\\AI_env\\lib\\site-packages\\torch\\utils\\data\\dataloader.py:733\u001b[0m, in \u001b[0;36m_BaseDataLoaderIter.__next__\u001b[1;34m(self)\u001b[0m\n\u001b[0;32m    730\u001b[0m \u001b[38;5;28;01mif\u001b[39;00m \u001b[38;5;28mself\u001b[39m\u001b[38;5;241m.\u001b[39m_sampler_iter \u001b[38;5;129;01mis\u001b[39;00m \u001b[38;5;28;01mNone\u001b[39;00m:\n\u001b[0;32m    731\u001b[0m     \u001b[38;5;66;03m# TODO(https://github.com/pytorch/pytorch/issues/76750)\u001b[39;00m\n\u001b[0;32m    732\u001b[0m     \u001b[38;5;28mself\u001b[39m\u001b[38;5;241m.\u001b[39m_reset()  \u001b[38;5;66;03m# type: ignore[call-arg]\u001b[39;00m\n\u001b[1;32m--> 733\u001b[0m data \u001b[38;5;241m=\u001b[39m \u001b[38;5;28;43mself\u001b[39;49m\u001b[38;5;241;43m.\u001b[39;49m\u001b[43m_next_data\u001b[49m\u001b[43m(\u001b[49m\u001b[43m)\u001b[49m\n\u001b[0;32m    734\u001b[0m \u001b[38;5;28mself\u001b[39m\u001b[38;5;241m.\u001b[39m_num_yielded \u001b[38;5;241m+\u001b[39m\u001b[38;5;241m=\u001b[39m \u001b[38;5;241m1\u001b[39m\n\u001b[0;32m    735\u001b[0m \u001b[38;5;28;01mif\u001b[39;00m (\n\u001b[0;32m    736\u001b[0m     \u001b[38;5;28mself\u001b[39m\u001b[38;5;241m.\u001b[39m_dataset_kind \u001b[38;5;241m==\u001b[39m _DatasetKind\u001b[38;5;241m.\u001b[39mIterable\n\u001b[0;32m    737\u001b[0m     \u001b[38;5;129;01mand\u001b[39;00m \u001b[38;5;28mself\u001b[39m\u001b[38;5;241m.\u001b[39m_IterableDataset_len_called \u001b[38;5;129;01mis\u001b[39;00m \u001b[38;5;129;01mnot\u001b[39;00m \u001b[38;5;28;01mNone\u001b[39;00m\n\u001b[0;32m    738\u001b[0m     \u001b[38;5;129;01mand\u001b[39;00m \u001b[38;5;28mself\u001b[39m\u001b[38;5;241m.\u001b[39m_num_yielded \u001b[38;5;241m>\u001b[39m \u001b[38;5;28mself\u001b[39m\u001b[38;5;241m.\u001b[39m_IterableDataset_len_called\n\u001b[0;32m    739\u001b[0m ):\n",
      "File \u001b[1;32mF:\\anaconda\\envs\\AI_env\\lib\\site-packages\\torch\\utils\\data\\dataloader.py:789\u001b[0m, in \u001b[0;36m_SingleProcessDataLoaderIter._next_data\u001b[1;34m(self)\u001b[0m\n\u001b[0;32m    787\u001b[0m \u001b[38;5;28;01mdef\u001b[39;00m \u001b[38;5;21m_next_data\u001b[39m(\u001b[38;5;28mself\u001b[39m):\n\u001b[0;32m    788\u001b[0m     index \u001b[38;5;241m=\u001b[39m \u001b[38;5;28mself\u001b[39m\u001b[38;5;241m.\u001b[39m_next_index()  \u001b[38;5;66;03m# may raise StopIteration\u001b[39;00m\n\u001b[1;32m--> 789\u001b[0m     data \u001b[38;5;241m=\u001b[39m \u001b[38;5;28;43mself\u001b[39;49m\u001b[38;5;241;43m.\u001b[39;49m\u001b[43m_dataset_fetcher\u001b[49m\u001b[38;5;241;43m.\u001b[39;49m\u001b[43mfetch\u001b[49m\u001b[43m(\u001b[49m\u001b[43mindex\u001b[49m\u001b[43m)\u001b[49m  \u001b[38;5;66;03m# may raise StopIteration\u001b[39;00m\n\u001b[0;32m    790\u001b[0m     \u001b[38;5;28;01mif\u001b[39;00m \u001b[38;5;28mself\u001b[39m\u001b[38;5;241m.\u001b[39m_pin_memory:\n\u001b[0;32m    791\u001b[0m         data \u001b[38;5;241m=\u001b[39m _utils\u001b[38;5;241m.\u001b[39mpin_memory\u001b[38;5;241m.\u001b[39mpin_memory(data, \u001b[38;5;28mself\u001b[39m\u001b[38;5;241m.\u001b[39m_pin_memory_device)\n",
      "File \u001b[1;32mF:\\anaconda\\envs\\AI_env\\lib\\site-packages\\torch\\utils\\data\\_utils\\fetch.py:55\u001b[0m, in \u001b[0;36m_MapDatasetFetcher.fetch\u001b[1;34m(self, possibly_batched_index)\u001b[0m\n\u001b[0;32m     53\u001b[0m \u001b[38;5;28;01melse\u001b[39;00m:\n\u001b[0;32m     54\u001b[0m     data \u001b[38;5;241m=\u001b[39m \u001b[38;5;28mself\u001b[39m\u001b[38;5;241m.\u001b[39mdataset[possibly_batched_index]\n\u001b[1;32m---> 55\u001b[0m \u001b[38;5;28;01mreturn\u001b[39;00m \u001b[38;5;28;43mself\u001b[39;49m\u001b[38;5;241;43m.\u001b[39;49m\u001b[43mcollate_fn\u001b[49m\u001b[43m(\u001b[49m\u001b[43mdata\u001b[49m\u001b[43m)\u001b[49m\n",
      "File \u001b[1;32mF:\\anaconda\\envs\\AI_env\\lib\\site-packages\\transformers\\trainer_utils.py:871\u001b[0m, in \u001b[0;36mRemoveColumnsCollator.__call__\u001b[1;34m(self, features)\u001b[0m\n\u001b[0;32m    869\u001b[0m \u001b[38;5;28;01mdef\u001b[39;00m \u001b[38;5;21m__call__\u001b[39m(\u001b[38;5;28mself\u001b[39m, features: \u001b[38;5;28mlist\u001b[39m[\u001b[38;5;28mdict\u001b[39m]):\n\u001b[0;32m    870\u001b[0m     features \u001b[38;5;241m=\u001b[39m [\u001b[38;5;28mself\u001b[39m\u001b[38;5;241m.\u001b[39m_remove_columns(feature) \u001b[38;5;28;01mfor\u001b[39;00m feature \u001b[38;5;129;01min\u001b[39;00m features]\n\u001b[1;32m--> 871\u001b[0m     \u001b[38;5;28;01mreturn\u001b[39;00m \u001b[38;5;28;43mself\u001b[39;49m\u001b[38;5;241;43m.\u001b[39;49m\u001b[43mdata_collator\u001b[49m\u001b[43m(\u001b[49m\u001b[43mfeatures\u001b[49m\u001b[43m)\u001b[49m\n",
      "File \u001b[1;32mF:\\anaconda\\envs\\AI_env\\lib\\site-packages\\transformers\\data\\data_collator.py:93\u001b[0m, in \u001b[0;36mdefault_data_collator\u001b[1;34m(features, return_tensors)\u001b[0m\n\u001b[0;32m     87\u001b[0m \u001b[38;5;66;03m# In this function we'll make the assumption that all `features` in the batch\u001b[39;00m\n\u001b[0;32m     88\u001b[0m \u001b[38;5;66;03m# have the same attributes.\u001b[39;00m\n\u001b[0;32m     89\u001b[0m \u001b[38;5;66;03m# So we will look at the first element as a proxy for what attributes exist\u001b[39;00m\n\u001b[0;32m     90\u001b[0m \u001b[38;5;66;03m# on the whole batch.\u001b[39;00m\n\u001b[0;32m     92\u001b[0m \u001b[38;5;28;01mif\u001b[39;00m return_tensors \u001b[38;5;241m==\u001b[39m \u001b[38;5;124m\"\u001b[39m\u001b[38;5;124mpt\u001b[39m\u001b[38;5;124m\"\u001b[39m:\n\u001b[1;32m---> 93\u001b[0m     \u001b[38;5;28;01mreturn\u001b[39;00m \u001b[43mtorch_default_data_collator\u001b[49m\u001b[43m(\u001b[49m\u001b[43mfeatures\u001b[49m\u001b[43m)\u001b[49m\n\u001b[0;32m     94\u001b[0m \u001b[38;5;28;01melif\u001b[39;00m return_tensors \u001b[38;5;241m==\u001b[39m \u001b[38;5;124m\"\u001b[39m\u001b[38;5;124mtf\u001b[39m\u001b[38;5;124m\"\u001b[39m:\n\u001b[0;32m     95\u001b[0m     \u001b[38;5;28;01mreturn\u001b[39;00m tf_default_data_collator(features)\n",
      "File \u001b[1;32mF:\\anaconda\\envs\\AI_env\\lib\\site-packages\\transformers\\data\\data_collator.py:132\u001b[0m, in \u001b[0;36mtorch_default_data_collator\u001b[1;34m(features)\u001b[0m\n\u001b[0;32m    129\u001b[0m \u001b[38;5;28;01mimport\u001b[39;00m \u001b[38;5;21;01mtorch\u001b[39;00m\n\u001b[0;32m    131\u001b[0m \u001b[38;5;28;01mif\u001b[39;00m \u001b[38;5;129;01mnot\u001b[39;00m \u001b[38;5;28misinstance\u001b[39m(features[\u001b[38;5;241m0\u001b[39m], Mapping):\n\u001b[1;32m--> 132\u001b[0m     features \u001b[38;5;241m=\u001b[39m [\u001b[38;5;28mvars\u001b[39m(f) \u001b[38;5;28;01mfor\u001b[39;00m f \u001b[38;5;129;01min\u001b[39;00m features]\n\u001b[0;32m    133\u001b[0m first \u001b[38;5;241m=\u001b[39m features[\u001b[38;5;241m0\u001b[39m]\n\u001b[0;32m    134\u001b[0m batch \u001b[38;5;241m=\u001b[39m {}\n",
      "File \u001b[1;32mF:\\anaconda\\envs\\AI_env\\lib\\site-packages\\transformers\\data\\data_collator.py:132\u001b[0m, in \u001b[0;36m<listcomp>\u001b[1;34m(.0)\u001b[0m\n\u001b[0;32m    129\u001b[0m \u001b[38;5;28;01mimport\u001b[39;00m \u001b[38;5;21;01mtorch\u001b[39;00m\n\u001b[0;32m    131\u001b[0m \u001b[38;5;28;01mif\u001b[39;00m \u001b[38;5;129;01mnot\u001b[39;00m \u001b[38;5;28misinstance\u001b[39m(features[\u001b[38;5;241m0\u001b[39m], Mapping):\n\u001b[1;32m--> 132\u001b[0m     features \u001b[38;5;241m=\u001b[39m [\u001b[38;5;28;43mvars\u001b[39;49m\u001b[43m(\u001b[49m\u001b[43mf\u001b[49m\u001b[43m)\u001b[49m \u001b[38;5;28;01mfor\u001b[39;00m f \u001b[38;5;129;01min\u001b[39;00m features]\n\u001b[0;32m    133\u001b[0m first \u001b[38;5;241m=\u001b[39m features[\u001b[38;5;241m0\u001b[39m]\n\u001b[0;32m    134\u001b[0m batch \u001b[38;5;241m=\u001b[39m {}\n",
      "\u001b[1;31mTypeError\u001b[0m: vars() argument must have __dict__ attribute"
     ]
    }
   ],
   "source": [
    "trainer.train()"
   ]
  },
  {
   "cell_type": "code",
   "execution_count": null,
   "id": "66434dde-5a40-4bf3-9863-3857617610ad",
   "metadata": {},
   "outputs": [],
   "source": []
  }
 ],
 "metadata": {
  "kernelspec": {
   "display_name": "Python (AI_env)",
   "language": "python",
   "name": "ai_env"
  },
  "language_info": {
   "codemirror_mode": {
    "name": "ipython",
    "version": 3
   },
   "file_extension": ".py",
   "mimetype": "text/x-python",
   "name": "python",
   "nbconvert_exporter": "python",
   "pygments_lexer": "ipython3",
   "version": "3.9.21"
  }
 },
 "nbformat": 4,
 "nbformat_minor": 5
}
